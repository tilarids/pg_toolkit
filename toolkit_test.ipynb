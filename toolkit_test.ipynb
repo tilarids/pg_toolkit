{
 "cells": [
  {
   "cell_type": "code",
   "execution_count": 1,
   "metadata": {
    "collapsed": false
   },
   "outputs": [],
   "source": [
    "import pg_toolkit as pgt\n",
    "pgt.toolkit_config.set_pg_conn_string(\"dbname='tenders'\")"
   ]
  },
  {
   "cell_type": "code",
   "execution_count": 2,
   "metadata": {
    "collapsed": false
   },
   "outputs": [],
   "source": [
    "import json\n",
    "import glob\n",
    "\n",
    "data = [json.load(open(x)) for x in glob.glob('/Users/tilarids/data/tenders/*/*.json')]"
   ]
  },
  {
   "cell_type": "code",
   "execution_count": 3,
   "metadata": {
    "collapsed": false
   },
   "outputs": [],
   "source": [
    "pgt.import_json_into_pg('tenders', data, lambda record: record['tenderID'], create_table=True, skip_duplicates=True)"
   ]
  },
  {
   "cell_type": "code",
   "execution_count": 4,
   "metadata": {
    "collapsed": false
   },
   "outputs": [
    {
     "data": {
      "text/html": [
       "<div>\n",
       "<table border=\"1\" class=\"dataframe\">\n",
       "  <thead>\n",
       "    <tr style=\"text-align: right;\">\n",
       "      <th></th>\n",
       "      <th>id</th>\n",
       "      <th>tenderid</th>\n",
       "      <th>amount</th>\n",
       "      <th>status</th>\n",
       "      <th>tenderer_name</th>\n",
       "      <th>bid_amount</th>\n",
       "      <th>tenderer_id</th>\n",
       "      <th>award_amount</th>\n",
       "    </tr>\n",
       "  </thead>\n",
       "  <tbody>\n",
       "    <tr>\n",
       "      <th>0</th>\n",
       "      <td>UA-2015-08-31-000073</td>\n",
       "      <td>UA-2015-08-31-000073</td>\n",
       "      <td>46305.00</td>\n",
       "      <td>cancelled</td>\n",
       "      <td>АВ Металл групп</td>\n",
       "      <td>38475.00</td>\n",
       "      <td>36441934</td>\n",
       "      <td>38475.00</td>\n",
       "    </tr>\n",
       "    <tr>\n",
       "      <th>1</th>\n",
       "      <td>UA-2015-10-20-000360</td>\n",
       "      <td>UA-2015-10-20-000360</td>\n",
       "      <td>213854.00</td>\n",
       "      <td>active.qualification</td>\n",
       "      <td>ТОВАРИСТВО З ОБМЕЖЕНОЮ ВІДПОВІДАЛЬНІСТЮ \"ВЛАДА...</td>\n",
       "      <td>212000.40</td>\n",
       "      <td>39290839</td>\n",
       "      <td>212000.40</td>\n",
       "    </tr>\n",
       "    <tr>\n",
       "      <th>2</th>\n",
       "      <td>UA-2015-10-16-000054</td>\n",
       "      <td>UA-2015-10-16-000054</td>\n",
       "      <td>2871.00</td>\n",
       "      <td>unsuccessful</td>\n",
       "      <td>ФОП \"Малиновський Олександр Леонідович\"</td>\n",
       "      <td>2871.00</td>\n",
       "      <td>3256706236</td>\n",
       "      <td>2871.00</td>\n",
       "    </tr>\n",
       "    <tr>\n",
       "      <th>3</th>\n",
       "      <td>UA-2015-10-22-000040</td>\n",
       "      <td>UA-2015-10-22-000040</td>\n",
       "      <td>3080.00</td>\n",
       "      <td>active.qualification</td>\n",
       "      <td>ПАТ \"МЕДИЦИНА\"</td>\n",
       "      <td>2206.13</td>\n",
       "      <td>23538297</td>\n",
       "      <td>2206.13</td>\n",
       "    </tr>\n",
       "    <tr>\n",
       "      <th>4</th>\n",
       "      <td>UA-2015-10-22-000040</td>\n",
       "      <td>UA-2015-10-22-000040</td>\n",
       "      <td>3080.00</td>\n",
       "      <td>active.qualification</td>\n",
       "      <td>Товариство з обмеженою відповідальністю \"АКЦЕП...</td>\n",
       "      <td>2580.00</td>\n",
       "      <td>38506076</td>\n",
       "      <td>2206.13</td>\n",
       "    </tr>\n",
       "    <tr>\n",
       "      <th>5</th>\n",
       "      <td>UA-2015-10-22-000040</td>\n",
       "      <td>UA-2015-10-22-000040</td>\n",
       "      <td>3080.00</td>\n",
       "      <td>active.qualification</td>\n",
       "      <td>ФОП Журавель Євген Валерійович</td>\n",
       "      <td>2800.00</td>\n",
       "      <td>3189918412</td>\n",
       "      <td>2206.13</td>\n",
       "    </tr>\n",
       "    <tr>\n",
       "      <th>6</th>\n",
       "      <td>UA-2015-10-16-000163</td>\n",
       "      <td>UA-2015-10-16-000163</td>\n",
       "      <td>1598930.04</td>\n",
       "      <td>unsuccessful</td>\n",
       "      <td>ТОВАРИСТВО З ОБМЕЖЕНОЮ ВІДПОВІДАЛЬНІСТЮ «МД ІС...</td>\n",
       "      <td>1590935.39</td>\n",
       "      <td>0032040840</td>\n",
       "      <td>1350000.00</td>\n",
       "    </tr>\n",
       "    <tr>\n",
       "      <th>7</th>\n",
       "      <td>UA-2015-10-16-000163</td>\n",
       "      <td>UA-2015-10-16-000163</td>\n",
       "      <td>1598930.04</td>\n",
       "      <td>unsuccessful</td>\n",
       "      <td>ТОВАРИСТВО З ОБМЕЖЕНОЮ ВІДПОВІДАЛЬНІСТЮ «МД ІС...</td>\n",
       "      <td>1590935.39</td>\n",
       "      <td>0032040840</td>\n",
       "      <td>1581505.43</td>\n",
       "    </tr>\n",
       "    <tr>\n",
       "      <th>8</th>\n",
       "      <td>UA-2015-10-16-000163</td>\n",
       "      <td>UA-2015-10-16-000163</td>\n",
       "      <td>1598930.04</td>\n",
       "      <td>unsuccessful</td>\n",
       "      <td>ТОВАРИСТВО З ОБМЕЖЕНОЮ ВІДПОВІДАЛЬНІСТЮ «МД ІС...</td>\n",
       "      <td>1590935.39</td>\n",
       "      <td>0032040840</td>\n",
       "      <td>1588000.00</td>\n",
       "    </tr>\n",
       "    <tr>\n",
       "      <th>9</th>\n",
       "      <td>UA-2015-10-16-000163</td>\n",
       "      <td>UA-2015-10-16-000163</td>\n",
       "      <td>1598930.04</td>\n",
       "      <td>unsuccessful</td>\n",
       "      <td>ТОВАРИСТВО З ОБМЕЖЕНОЮ ВІДПОВІДАЛЬНІСТЮ «МД ІС...</td>\n",
       "      <td>1590935.39</td>\n",
       "      <td>0032040840</td>\n",
       "      <td>1590935.39</td>\n",
       "    </tr>\n",
       "  </tbody>\n",
       "</table>\n",
       "</div>"
      ],
      "text/plain": [
       "                     id              tenderid      amount  \\\n",
       "0  UA-2015-08-31-000073  UA-2015-08-31-000073    46305.00   \n",
       "1  UA-2015-10-20-000360  UA-2015-10-20-000360   213854.00   \n",
       "2  UA-2015-10-16-000054  UA-2015-10-16-000054     2871.00   \n",
       "3  UA-2015-10-22-000040  UA-2015-10-22-000040     3080.00   \n",
       "4  UA-2015-10-22-000040  UA-2015-10-22-000040     3080.00   \n",
       "5  UA-2015-10-22-000040  UA-2015-10-22-000040     3080.00   \n",
       "6  UA-2015-10-16-000163  UA-2015-10-16-000163  1598930.04   \n",
       "7  UA-2015-10-16-000163  UA-2015-10-16-000163  1598930.04   \n",
       "8  UA-2015-10-16-000163  UA-2015-10-16-000163  1598930.04   \n",
       "9  UA-2015-10-16-000163  UA-2015-10-16-000163  1598930.04   \n",
       "\n",
       "                 status                                      tenderer_name  \\\n",
       "0             cancelled                                    АВ Металл групп   \n",
       "1  active.qualification  ТОВАРИСТВО З ОБМЕЖЕНОЮ ВІДПОВІДАЛЬНІСТЮ \"ВЛАДА...   \n",
       "2          unsuccessful            ФОП \"Малиновський Олександр Леонідович\"   \n",
       "3  active.qualification                                     ПАТ \"МЕДИЦИНА\"   \n",
       "4  active.qualification  Товариство з обмеженою відповідальністю \"АКЦЕП...   \n",
       "5  active.qualification                     ФОП Журавель Євген Валерійович   \n",
       "6          unsuccessful  ТОВАРИСТВО З ОБМЕЖЕНОЮ ВІДПОВІДАЛЬНІСТЮ «МД ІС...   \n",
       "7          unsuccessful  ТОВАРИСТВО З ОБМЕЖЕНОЮ ВІДПОВІДАЛЬНІСТЮ «МД ІС...   \n",
       "8          unsuccessful  ТОВАРИСТВО З ОБМЕЖЕНОЮ ВІДПОВІДАЛЬНІСТЮ «МД ІС...   \n",
       "9          unsuccessful  ТОВАРИСТВО З ОБМЕЖЕНОЮ ВІДПОВІДАЛЬНІСТЮ «МД ІС...   \n",
       "\n",
       "   bid_amount tenderer_id  award_amount  \n",
       "0    38475.00    36441934      38475.00  \n",
       "1   212000.40    39290839     212000.40  \n",
       "2     2871.00  3256706236       2871.00  \n",
       "3     2206.13    23538297       2206.13  \n",
       "4     2580.00    38506076       2206.13  \n",
       "5     2800.00  3189918412       2206.13  \n",
       "6  1590935.39  0032040840    1350000.00  \n",
       "7  1590935.39  0032040840    1581505.43  \n",
       "8  1590935.39  0032040840    1588000.00  \n",
       "9  1590935.39  0032040840    1590935.39  "
      ]
     },
     "execution_count": 4,
     "metadata": {},
     "output_type": "execute_result"
    }
   ],
   "source": [
    "pgt.pg_query(\"\"\"\n",
    "    SELECT \n",
    "        t.id,\n",
    "        t.data->'tenderID' as tenderID,\n",
    "        t.data->'value'->'amount' as amount,\n",
    "        t.data->'status' as status,\n",
    "        tenderer->'name' as tenderer_name,\n",
    "        bid->'value'->'amount' as bid_amount,\n",
    "        tenderer->'identifier'->'id' as tenderer_id,\n",
    "        award->'value'->'amount' as award_amount\n",
    "    FROM tenders t,\n",
    "        jsonb_array_elements(t.data->'bids') bid,\n",
    "        jsonb_array_elements(bid->'tenderers') tenderer,\n",
    "        jsonb_array_elements(t.data->'awards') award\n",
    "    LIMIT 10\"\"\")"
   ]
  },
  {
   "cell_type": "code",
   "execution_count": 5,
   "metadata": {
    "collapsed": false
   },
   "outputs": [],
   "source": [
    "z = pgt.pg_query_by_id('tenders', 'UA-2015-10-20-000200')"
   ]
  },
  {
   "cell_type": "code",
   "execution_count": 6,
   "metadata": {
    "collapsed": false
   },
   "outputs": [],
   "source": [
    "z['value']['amount']=10505.42\n",
    "pgt.pg_update_record('tenders', 'UA-2015-10-20-000200', z)"
   ]
  },
  {
   "cell_type": "code",
   "execution_count": 10,
   "metadata": {
    "collapsed": false
   },
   "outputs": [
    {
     "data": {
      "text/plain": [
       "10505.42"
      ]
     },
     "execution_count": 10,
     "metadata": {},
     "output_type": "execute_result"
    }
   ],
   "source": [
    "pgt.pg_query_by_id('tenders', 'UA-2015-10-20-000200')['value']['amount']"
   ]
  },
  {
   "cell_type": "code",
   "execution_count": null,
   "metadata": {
    "collapsed": false
   },
   "outputs": [],
   "source": []
  },
  {
   "cell_type": "code",
   "execution_count": null,
   "metadata": {
    "collapsed": true
   },
   "outputs": [],
   "source": []
  }
 ],
 "metadata": {
  "kernelspec": {
   "display_name": "Python 2",
   "language": "python",
   "name": "python2"
  },
  "language_info": {
   "codemirror_mode": {
    "name": "ipython",
    "version": 2
   },
   "file_extension": ".py",
   "mimetype": "text/x-python",
   "name": "python",
   "nbconvert_exporter": "python",
   "pygments_lexer": "ipython2",
   "version": "2.7.12"
  }
 },
 "nbformat": 4,
 "nbformat_minor": 1
}
